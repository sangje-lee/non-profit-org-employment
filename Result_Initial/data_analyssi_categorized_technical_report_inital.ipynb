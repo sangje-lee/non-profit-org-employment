{
 "cells": [
  {
   "cell_type": "markdown",
   "metadata": {},
   "source": [
    "## Data analysis for employment in non-profit organization"
   ]
  },
  {
   "cell_type": "markdown",
   "metadata": {},
   "source": [
    "<h3> First portion of the code </h3>"
   ]
  },
  {
   "cell_type": "markdown",
   "metadata": {},
   "source": [
    "Portion of the code involved, including,<br />\n",
    "- Import entire dataset<br />\n",
    "- Filtering some of Indicators<br />\n",
    "- Importing it into Panda Profiling files. (Three of them)<br />"
   ]
  },
  {
   "cell_type": "markdown",
   "metadata": {},
   "source": [
    "Import all requirement,"
   ]
  },
  {
   "cell_type": "code",
   "execution_count": 3,
   "metadata": {},
   "outputs": [],
   "source": [
    "import pandas as pd\n",
    "import numpy as np\n",
    "import ydata_profiling as pp  \n",
    "from ydata_profiling import ProfileReport \n",
    "import warnings\n",
    "import os\n",
    "\n",
    "warnings.filterwarnings('ignore')"
   ]
  },
  {
   "cell_type": "code",
   "execution_count": 4,
   "metadata": {},
   "outputs": [],
   "source": [
    "import seaborn as sns\n",
    "import matplotlib.pyplot as plt\n",
    "from fitter import Fitter, get_common_distributions, get_distributions\n",
    "\n",
    "from sklearn.linear_model import LinearRegression\n",
    "from scipy.stats import chi2_contingency\n",
    "\n",
    "import datetime as dt\n",
    "# import theseus_growth as thg"
   ]
  },
  {
   "cell_type": "markdown",
   "metadata": {},
   "source": [
    "Import unemployment dataset."
   ]
  },
  {
   "cell_type": "code",
   "execution_count": 5,
   "metadata": {},
   "outputs": [
    {
     "name": "stdout",
     "output_type": "stream",
     "text": [
      "<class 'pandas.core.frame.DataFrame'>\n",
      "RangeIndex: 105840 entries, 0 to 105839\n",
      "Data columns (total 17 columns):\n",
      " #   Column           Non-Null Count   Dtype  \n",
      "---  ------           --------------   -----  \n",
      " 0   REF_DATE         105840 non-null  int64  \n",
      " 1   GEO              105840 non-null  object \n",
      " 2   DGUID            105840 non-null  object \n",
      " 3   Sector           105840 non-null  object \n",
      " 4   Characteristics  105840 non-null  object \n",
      " 5   Indicators       105840 non-null  object \n",
      " 6   UOM              105840 non-null  object \n",
      " 7   UOM_ID           105840 non-null  int64  \n",
      " 8   SCALAR_FACTOR    105840 non-null  object \n",
      " 9   SCALAR_ID        105840 non-null  int64  \n",
      " 10  VECTOR           105840 non-null  object \n",
      " 11  COORDINATE       105840 non-null  object \n",
      " 12  VALUE            102816 non-null  float64\n",
      " 13  STATUS           3024 non-null    object \n",
      " 14  SYMBOL           0 non-null       float64\n",
      " 15  TERMINATED       0 non-null       float64\n",
      " 16  DECIMALS         105840 non-null  int64  \n",
      "dtypes: float64(3), int64(4), object(10)\n",
      "memory usage: 13.7+ MB\n",
      "None\n",
      "   REF_DATE     GEO           DGUID                         Sector  \\\n",
      "0      2010  Canada  2016A000011124  Total non-profit institutions   \n",
      "1      2010  Canada  2016A000011124  Total non-profit institutions   \n",
      "2      2010  Canada  2016A000011124  Total non-profit institutions   \n",
      "3      2010  Canada  2016A000011124  Total non-profit institutions   \n",
      "4      2010  Canada  2016A000011124  Total non-profit institutions   \n",
      "5      2010  Canada  2016A000011124  Total non-profit institutions   \n",
      "6      2010  Canada  2016A000011124  Total non-profit institutions   \n",
      "7      2010  Canada  2016A000011124  Total non-profit institutions   \n",
      "8      2010  Canada  2016A000011124  Total non-profit institutions   \n",
      "9      2010  Canada  2016A000011124  Total non-profit institutions   \n",
      "\n",
      "    Characteristics                         Indicators      UOM  UOM_ID  \\\n",
      "0    Male employees                     Number of jobs     Jobs     190   \n",
      "1    Male employees                       Hours worked    Hours     152   \n",
      "2    Male employees                 Wages and salaries  Dollars      81   \n",
      "3    Male employees        Average annual hours worked    Hours     152   \n",
      "4    Male employees        Average weekly hours worked    Hours     152   \n",
      "5    Male employees  Average annual wages and salaries  Dollars      81   \n",
      "6    Male employees                Average hourly wage  Dollars      81   \n",
      "7  Female employees                     Number of jobs     Jobs     190   \n",
      "8  Female employees                       Hours worked    Hours     152   \n",
      "9  Female employees                 Wages and salaries  Dollars      81   \n",
      "\n",
      "  SCALAR_FACTOR  SCALAR_ID       VECTOR COORDINATE       VALUE STATUS  SYMBOL  \\\n",
      "0         units          0  v1273033811    1.1.1.1   642584.00    NaN     NaN   \n",
      "1     thousands          3  v1273033812    1.1.1.2  1048516.00    NaN     NaN   \n",
      "2      millions          6  v1273033813    1.1.1.3    30805.00    NaN     NaN   \n",
      "3         units          0  v1273033814    1.1.1.4     1632.00    NaN     NaN   \n",
      "4         units          0  v1273033815    1.1.1.5       31.00    NaN     NaN   \n",
      "5         units          0  v1273033816    1.1.1.6    47940.00    NaN     NaN   \n",
      "6         units          0  v1273033817    1.1.1.7       29.38    NaN     NaN   \n",
      "7         units          0  v1273033909    1.1.2.1  1500394.00    NaN     NaN   \n",
      "8     thousands          3  v1273033910    1.1.2.2  2331018.00    NaN     NaN   \n",
      "9      millions          6  v1273033911    1.1.2.3    60943.00    NaN     NaN   \n",
      "\n",
      "   TERMINATED  DECIMALS  \n",
      "0         NaN         0  \n",
      "1         NaN         0  \n",
      "2         NaN         0  \n",
      "3         NaN         0  \n",
      "4         NaN         0  \n",
      "5         NaN         0  \n",
      "6         NaN         2  \n",
      "7         NaN         0  \n",
      "8         NaN         0  \n",
      "9         NaN         0  \n"
     ]
    }
   ],
   "source": [
    "df = pd.read_csv('36100651.csv')\n",
    "\n",
    "print(df.info())\n",
    "print(df.head(10))"
   ]
  },
  {
   "cell_type": "markdown",
   "metadata": {},
   "source": [
    "Filter only the essential columns of the original dataset."
   ]
  },
  {
   "cell_type": "code",
   "execution_count": 6,
   "metadata": {},
   "outputs": [
    {
     "name": "stdout",
     "output_type": "stream",
     "text": [
      "Grab the only the essential part of database.\n",
      "    REF_DATE           DGUID     GEO                         Sector  \\\n",
      "0       2010  2016A000011124  Canada  Total non-profit institutions   \n",
      "1       2010  2016A000011124  Canada  Total non-profit institutions   \n",
      "2       2010  2016A000011124  Canada  Total non-profit institutions   \n",
      "3       2010  2016A000011124  Canada  Total non-profit institutions   \n",
      "4       2010  2016A000011124  Canada  Total non-profit institutions   \n",
      "5       2010  2016A000011124  Canada  Total non-profit institutions   \n",
      "6       2010  2016A000011124  Canada  Total non-profit institutions   \n",
      "7       2010  2016A000011124  Canada  Total non-profit institutions   \n",
      "8       2010  2016A000011124  Canada  Total non-profit institutions   \n",
      "9       2010  2016A000011124  Canada  Total non-profit institutions   \n",
      "10      2010  2016A000011124  Canada  Total non-profit institutions   \n",
      "11      2010  2016A000011124  Canada  Total non-profit institutions   \n",
      "12      2010  2016A000011124  Canada  Total non-profit institutions   \n",
      "13      2010  2016A000011124  Canada  Total non-profit institutions   \n",
      "14      2010  2016A000011124  Canada  Total non-profit institutions   \n",
      "15      2010  2016A000011124  Canada  Total non-profit institutions   \n",
      "16      2010  2016A000011124  Canada  Total non-profit institutions   \n",
      "17      2010  2016A000011124  Canada  Total non-profit institutions   \n",
      "18      2010  2016A000011124  Canada  Total non-profit institutions   \n",
      "19      2010  2016A000011124  Canada  Total non-profit institutions   \n",
      "\n",
      "        Characteristics                         Indicators      UOM  \\\n",
      "0        Male employees                     Number of jobs     Jobs   \n",
      "1        Male employees                       Hours worked    Hours   \n",
      "2        Male employees                 Wages and salaries  Dollars   \n",
      "3        Male employees        Average annual hours worked    Hours   \n",
      "4        Male employees        Average weekly hours worked    Hours   \n",
      "5        Male employees  Average annual wages and salaries  Dollars   \n",
      "6        Male employees                Average hourly wage  Dollars   \n",
      "7      Female employees                     Number of jobs     Jobs   \n",
      "8      Female employees                       Hours worked    Hours   \n",
      "9      Female employees                 Wages and salaries  Dollars   \n",
      "10     Female employees        Average annual hours worked    Hours   \n",
      "11     Female employees        Average weekly hours worked    Hours   \n",
      "12     Female employees  Average annual wages and salaries  Dollars   \n",
      "13     Female employees                Average hourly wage  Dollars   \n",
      "14  Immigrant employees                     Number of jobs     Jobs   \n",
      "15  Immigrant employees                       Hours worked    Hours   \n",
      "16  Immigrant employees                 Wages and salaries  Dollars   \n",
      "17  Immigrant employees        Average annual hours worked    Hours   \n",
      "18  Immigrant employees        Average weekly hours worked    Hours   \n",
      "19  Immigrant employees  Average annual wages and salaries  Dollars   \n",
      "\n",
      "   SCALAR_FACTOR       VALUE  \n",
      "0          units   642584.00  \n",
      "1      thousands  1048516.00  \n",
      "2       millions    30805.00  \n",
      "3          units     1632.00  \n",
      "4          units       31.00  \n",
      "5          units    47940.00  \n",
      "6          units       29.38  \n",
      "7          units  1500394.00  \n",
      "8      thousands  2331018.00  \n",
      "9       millions    60943.00  \n",
      "10         units     1554.00  \n",
      "11         units       30.00  \n",
      "12         units    40618.00  \n",
      "13         units       26.14  \n",
      "14         units   503236.00  \n",
      "15     thousands   802251.00  \n",
      "16      millions    22212.00  \n",
      "17         units     1594.00  \n",
      "18         units       31.00  \n",
      "19         units    44138.00  \n",
      "<class 'pandas.core.frame.DataFrame'>\n",
      "RangeIndex: 105840 entries, 0 to 105839\n",
      "Data columns (total 9 columns):\n",
      " #   Column           Non-Null Count   Dtype  \n",
      "---  ------           --------------   -----  \n",
      " 0   REF_DATE         105840 non-null  int64  \n",
      " 1   DGUID            105840 non-null  object \n",
      " 2   GEO              105840 non-null  object \n",
      " 3   Sector           105840 non-null  object \n",
      " 4   Characteristics  105840 non-null  object \n",
      " 5   Indicators       105840 non-null  object \n",
      " 6   UOM              105840 non-null  object \n",
      " 7   SCALAR_FACTOR    105840 non-null  object \n",
      " 8   VALUE            102816 non-null  float64\n",
      "dtypes: float64(1), int64(1), object(7)\n",
      "memory usage: 7.3+ MB\n",
      "None\n",
      "Sort by Characteristics\n",
      "                                   size\n",
      "Characteristics                        \n",
      "15 to 24 years                     5880\n",
      "25 to 34 years                     5880\n",
      "35 to 44 years                     5880\n",
      "45 to 54 years                     5880\n",
      "55 to 64 years                     5880\n",
      "65 years old and over              5880\n",
      "College diploma                    5880\n",
      "Female employees                   5880\n",
      "High school diploma and less       5880\n",
      "Immigrant employees                5880\n",
      "Indigenous identity employees      5880\n",
      "Male employees                     5880\n",
      "Non-immigrant employees            5880\n",
      "Non-indigenous identity employees  5880\n",
      "Not a visible minority             5880\n",
      "Trade certificate                  5880\n",
      "University degree and higher       5880\n",
      "Visible minority                   5880\n",
      "Sort by Indicator\n",
      "                                    size\n",
      "Indicators                              \n",
      "Average annual hours worked        15120\n",
      "Average annual wages and salaries  15120\n",
      "Average hourly wage                15120\n",
      "Average weekly hours worked        15120\n",
      "Hours worked                       15120\n",
      "Number of jobs                     15120\n",
      "Wages and salaries                 15120\n"
     ]
    }
   ],
   "source": [
    "print(\"Grab the only the essential part of database.\")\n",
    "\n",
    "# From the original, \n",
    "# UOM_ID, SCALAR_ID, VECTOR, COORDINATE, STATUS, SYMBOL, TERMINATED, and DECIMALS columns are removed.\n",
    "\n",
    "df_sorted = df[['REF_DATE','DGUID','GEO','Sector','Characteristics','Indicators','UOM','SCALAR_FACTOR','VALUE']]\n",
    "\n",
    "print(df_sorted.head(20))\n",
    "print(df_sorted.info())\n",
    "\n",
    "print(\"Sort by Characteristics\")\n",
    "grouped = df_sorted.groupby(['Characteristics'])\n",
    "print(grouped['VALUE'].agg([np.size]))\n",
    "\n",
    "print(\"Sort by Indicator\")\n",
    "grouped = df_sorted.groupby(['Indicators'])\n",
    "print(grouped['VALUE'].agg([np.size]))\n"
   ]
  },
  {
   "cell_type": "markdown",
   "metadata": {},
   "source": [
    "Check for the missing value from the sorted dataset done above.\n",
    "* Notice there is missing value in this dataset.\n",
    "* Based on \"VALUE\" records, there's are 2.86% of the data are missing."
   ]
  },
  {
   "cell_type": "code",
   "execution_count": 7,
   "metadata": {},
   "outputs": [
    {
     "name": "stdout",
     "output_type": "stream",
     "text": [
      "Original database null counter\n",
      "                 percent_in_na  num_of_na  total_sample\n",
      "REF_DATE              0.000000          0        105840\n",
      "GEO                   0.000000          0        105840\n",
      "DGUID                 0.000000          0        105840\n",
      "Sector                0.000000          0        105840\n",
      "Characteristics       0.000000          0        105840\n",
      "Indicators            0.000000          0        105840\n",
      "UOM                   0.000000          0        105840\n",
      "UOM_ID                0.000000          0        105840\n",
      "SCALAR_FACTOR         0.000000          0        105840\n",
      "SCALAR_ID             0.000000          0        105840\n",
      "VECTOR                0.000000          0        105840\n",
      "COORDINATE            0.000000          0        105840\n",
      "VALUE                 2.857143       3024        105840\n",
      "STATUS               97.142857     102816        105840\n",
      "SYMBOL              100.000000     105840        105840\n",
      "TERMINATED          100.000000     105840        105840\n",
      "DECIMALS              0.000000          0        105840\n",
      "\n",
      "Modified dataset null counter.\n",
      "                 percent_in_na  num_of_na  total_sample\n",
      "REF_DATE              0.000000          0        105840\n",
      "DGUID                 0.000000          0        105840\n",
      "GEO                   0.000000          0        105840\n",
      "Sector                0.000000          0        105840\n",
      "Characteristics       0.000000          0        105840\n",
      "Indicators            0.000000          0        105840\n",
      "UOM                   0.000000          0        105840\n",
      "SCALAR_FACTOR         0.000000          0        105840\n",
      "VALUE                 2.857143       3024        105840\n"
     ]
    }
   ],
   "source": [
    "# Ratio instead of number out ob \n",
    "# https://stackoverflow.com/questions/51070985/find-out-the-percentage-of-missing-values-in-each-column-in-the-given-dataset\n",
    "\n",
    "# Value for \"STATUS\", \"SYMBOL\", and \"TERMINATED\" will be removed after this analysis.\n",
    "# They contains non-meanful data inside.\n",
    "\n",
    "percent_missing_df = df.isnull().sum() * 100 / len(df)\n",
    "missing_value_df = pd.DataFrame({'percent_in_na': percent_missing_df,\n",
    "                                 'num_of_na': df.isnull().sum(),\n",
    "                                 'total_sample': len(df)})\n",
    "print(\"Original database null counter\")\n",
    "print(missing_value_df)\n",
    "\n",
    "# Noticed that, there's 2.85% of the data (VALUE) is missing.\n",
    "# To straight forward those missing data, I have decided to further removed some of the missing values.\n",
    "\n",
    "percent_missing_df_sorted = df_sorted.isnull().sum() * 100 / len(df_sorted)\n",
    "missing_value_df_sorted = pd.DataFrame({'percent_in_na': percent_missing_df_sorted,\n",
    "                                 'num_of_na': df_sorted.isnull().sum(),\n",
    "                                 'total_sample': len(df_sorted)})\n",
    "print(\"\\nModified dataset null counter.\")\n",
    "print(missing_value_df_sorted)"
   ]
  },
  {
   "cell_type": "markdown",
   "metadata": {},
   "source": [
    "Dropping missing value from the sorted dataset."
   ]
  },
  {
   "cell_type": "code",
   "execution_count": 8,
   "metadata": {},
   "outputs": [],
   "source": [
    "df_sorted_na = df_sorted.dropna()"
   ]
  },
  {
   "cell_type": "markdown",
   "metadata": {},
   "source": [
    "Check now if there's still a missing data inside modified sorted dataset done above."
   ]
  },
  {
   "cell_type": "code",
   "execution_count": 9,
   "metadata": {},
   "outputs": [
    {
     "name": "stdout",
     "output_type": "stream",
     "text": [
      "Modified dataset modification after removing missing value and it's total counter\n",
      "                 percent_in_na\n",
      "REF_DATE                   0.0\n",
      "DGUID                      0.0\n",
      "GEO                        0.0\n",
      "Sector                     0.0\n",
      "Characteristics            0.0\n",
      "Indicators                 0.0\n",
      "UOM                        0.0\n",
      "SCALAR_FACTOR              0.0\n",
      "VALUE                      0.0\n",
      "<class 'pandas.core.frame.DataFrame'>\n",
      "Index: 102816 entries, 0 to 105839\n",
      "Data columns (total 9 columns):\n",
      " #   Column           Non-Null Count   Dtype  \n",
      "---  ------           --------------   -----  \n",
      " 0   REF_DATE         102816 non-null  int64  \n",
      " 1   DGUID            102816 non-null  object \n",
      " 2   GEO              102816 non-null  object \n",
      " 3   Sector           102816 non-null  object \n",
      " 4   Characteristics  102816 non-null  object \n",
      " 5   Indicators       102816 non-null  object \n",
      " 6   UOM              102816 non-null  object \n",
      " 7   SCALAR_FACTOR    102816 non-null  object \n",
      " 8   VALUE            102816 non-null  float64\n",
      "dtypes: float64(1), int64(1), object(7)\n",
      "memory usage: 7.8+ MB\n",
      "None\n",
      "                                   size\n",
      "Characteristics                        \n",
      "15 to 24 years                     5376\n",
      "25 to 34 years                     5880\n",
      "35 to 44 years                     5880\n",
      "45 to 54 years                     5880\n",
      "55 to 64 years                     5880\n",
      "65 years old and over              5376\n",
      "College diploma                    5880\n",
      "Female employees                   5880\n",
      "High school diploma and less       5880\n",
      "Immigrant employees                5544\n",
      "Indigenous identity employees      5544\n",
      "Male employees                     5880\n",
      "Non-immigrant employees            5544\n",
      "Non-indigenous identity employees  5544\n",
      "Not a visible minority             5880\n",
      "Trade certificate                  5544\n",
      "University degree and higher       5544\n",
      "Visible minority                   5880\n",
      "                                    size\n",
      "Indicators                              \n",
      "Average annual hours worked        14688\n",
      "Average annual wages and salaries  14688\n",
      "Average hourly wage                14688\n",
      "Average weekly hours worked        14688\n",
      "Hours worked                       14688\n",
      "Number of jobs                     14688\n",
      "Wages and salaries                 14688\n"
     ]
    }
   ],
   "source": [
    "print(\"Modified dataset modification after removing missing value and it's total counter\")\n",
    "\n",
    "percent_missing_df_sorted_na = df_sorted_na.isnull().sum() * 100 / len(df_sorted_na)\n",
    "missing_value_df_sorted_na = pd.DataFrame({'percent_in_na': percent_missing_df_sorted_na})\n",
    "print(missing_value_df_sorted_na)\n",
    "# print(df_sorted_na.head(20))\n",
    "\n",
    "print(df_sorted_na.info())\n",
    "grouped = df_sorted_na.groupby(['Characteristics'])\n",
    "print(grouped['VALUE'].agg([np.size]))\n",
    "\n",
    "grouped = df_sorted_na.groupby(['Indicators'])\n",
    "print(grouped['VALUE'].agg([np.size]))"
   ]
  },
  {
   "cell_type": "markdown",
   "metadata": {},
   "source": [
    "Panda Profiling for original dataset (CSV file),"
   ]
  },
  {
   "cell_type": "code",
   "execution_count": 10,
   "metadata": {},
   "outputs": [
    {
     "name": "stderr",
     "output_type": "stream",
     "text": [
      "Summarize dataset:   0%|          | 0/5 [00:00<?, ?it/s]"
     ]
    },
    {
     "name": "stderr",
     "output_type": "stream",
     "text": [
      "Summarize dataset: 100%|██████████| 31/31 [00:09<00:00,  3.36it/s, Completed]                       \n",
      "Generate report structure: 100%|██████████| 1/1 [00:08<00:00,  8.01s/it]\n",
      "Render HTML: 100%|██████████| 1/1 [00:01<00:00,  1.53s/it]\n"
     ]
    }
   ],
   "source": [
    "# https://medium.com/analytics-vidhya/pandas-profiling-5ecd0b977ecd\n",
    "\n",
    "pp = ProfileReport(df, title=\"Pandas Profiling Report\")\n",
    "pp_df = pp.to_html()\n",
    "\n",
    "f = open(\"df_NoMod.html\", \"a\")  # Expert into html file without modifying any columns in dataset.\n",
    "f.write(pp_df)\n",
    "f.close()"
   ]
  },
  {
   "cell_type": "markdown",
   "metadata": {},
   "source": [
    "Panda Profiling for sorted dataset,"
   ]
  },
  {
   "cell_type": "code",
   "execution_count": 11,
   "metadata": {},
   "outputs": [
    {
     "name": "stderr",
     "output_type": "stream",
     "text": [
      "Summarize dataset:   0%|          | 0/5 [00:00<?, ?it/s]"
     ]
    },
    {
     "name": "stderr",
     "output_type": "stream",
     "text": [
      "Summarize dataset: 100%|██████████| 22/22 [00:05<00:00,  3.71it/s, Completed]                       \n",
      "Generate report structure: 100%|██████████| 1/1 [00:04<00:00,  4.27s/it]\n",
      "Render HTML: 100%|██████████| 1/1 [00:00<00:00,  1.41it/s]\n"
     ]
    }
   ],
   "source": [
    "pp_sorted = ProfileReport(df_sorted, title=\"Pandas Profiling Report with Columns Sorted\")\n",
    "pp_df_sorted = pp_sorted.to_html()\n",
    "\n",
    "f = open(\"df_Sorted.html\", \"a\") # Expert modifying data into html file.\n",
    "f.write(pp_df_sorted)\n",
    "f.close()"
   ]
  },
  {
   "cell_type": "markdown",
   "metadata": {},
   "source": [
    "Panda Profiling for modified sorted dataset (missing data removed),"
   ]
  },
  {
   "cell_type": "code",
   "execution_count": 12,
   "metadata": {},
   "outputs": [
    {
     "name": "stderr",
     "output_type": "stream",
     "text": [
      "Summarize dataset:   0%|          | 0/5 [00:00<?, ?it/s]"
     ]
    },
    {
     "name": "stderr",
     "output_type": "stream",
     "text": [
      "Summarize dataset: 100%|██████████| 22/22 [00:05<00:00,  4.15it/s, Completed]                       \n",
      "Generate report structure: 100%|██████████| 1/1 [00:03<00:00,  3.99s/it]\n",
      "Render HTML: 100%|██████████| 1/1 [00:00<00:00,  1.49it/s]\n"
     ]
    }
   ],
   "source": [
    "pp = ProfileReport(df_sorted_na, title=\"Pandas Profiling Report with Columned Sorted and NA Removed\")\n",
    "pp_df_sorted = pp.to_html()\n",
    "\n",
    "f = open(\"df_Sorted-no-na.html\", \"a\") # Expert modifying data into html file.\n",
    "f.write(pp_df_sorted)\n",
    "f.close()"
   ]
  },
  {
   "cell_type": "code",
   "execution_count": 13,
   "metadata": {},
   "outputs": [],
   "source": [
    "# Differences should be, there will be less data to work on.\n",
    "# Particularly business non-profit organizations and community organizations haven't given more accurate data (more missing values)."
   ]
  }
 ],
 "metadata": {
  "kernelspec": {
   "display_name": "employment",
   "language": "python",
   "name": "python3"
  },
  "language_info": {
   "codemirror_mode": {
    "name": "ipython",
    "version": 3
   },
   "file_extension": ".py",
   "mimetype": "text/x-python",
   "name": "python",
   "nbconvert_exporter": "python",
   "pygments_lexer": "ipython3",
   "version": "3.8.18"
  }
 },
 "nbformat": 4,
 "nbformat_minor": 2
}
